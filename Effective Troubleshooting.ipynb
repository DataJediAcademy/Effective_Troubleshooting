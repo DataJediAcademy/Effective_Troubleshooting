{
 "cells": [
  {
   "cell_type": "markdown",
   "metadata": {},
   "source": [
    "**Confidential: Property of the Data Jedi Academy, unauthorised distribution not allowed**\n",
    "\n",
    "<img align=\"left\" src = \"DATA-JEDI.png\" width=\"200\" height=\"60\">"
   ]
  },
  {
   "cell_type": "markdown",
   "metadata": {},
   "source": [
    "# Effective Troubleshooting"
   ]
  },
  {
   "cell_type": "markdown",
   "metadata": {},
   "source": [
    "## Introduction"
   ]
  },
  {
   "cell_type": "markdown",
   "metadata": {},
   "source": [
    "Troubleshooting is a form of problem solving, often applied to repair failed products or processes. It is a **logical**, **systematic** search for the source of a problem in order to solve it, and make the product or process operational again. Troubleshooting is needed to identify the symptoms.\n",
    "\n",
    ">**Remember: the computer is probably doing exactly what you’re telling it to do**"
   ]
  },
  {
   "cell_type": "markdown",
   "metadata": {},
   "source": [
    "## Steps for troubleshooting"
   ]
  },
  {
   "cell_type": "markdown",
   "metadata": {},
   "source": [
    "###  Read the error message \n",
    "\n",
    "When you first start programming and meet your first error, you're met with a starking red blob of text that can be very intimidating. But you shouldn't fear this blob of text as it contains very useful information! Not only does it try to inform you of what exactly went wrong, it also gives you the exact lines of code where the problem is being faced. These lines are often referred to as a **stack trace**."
   ]
  },
  {
   "cell_type": "markdown",
   "metadata": {},
   "source": [
    "### Only change one thing at a time. \n",
    "\n",
    "It can be tempting to change everything at once. But try just changing one thing and before you change it think through how that one change will help you confirm or reject your current assumptions of the problem and ultimately help you further your understanding and bring you closer to a potential solution. \n"
   ]
  },
  {
   "cell_type": "markdown",
   "metadata": {},
   "source": [
    "### Look through the project documentation\n",
    "\n",
    "Before developers release a software program, they have to go through a somewhat arduous and boring process of documenting every single nook and cranny of the software. This is because develoeprs are lazy and don't like human contact! (only partly joking). But as beginners we often shy away from reading docs because of the internet but if you can check out not just the docs but the source-code of the project (if it's open source) then you will not only likely find an answer but also learn about cool new features of the software."
   ]
  },
  {
   "cell_type": "markdown",
   "metadata": {},
   "source": [
    "### Search the Internet\n",
    "<img align=\"left\" src = \"https://imgs.xkcd.com/comics/wisdom_of_the_ancients.png\" width=\"500\" height=\"1000\">"
   ]
  },
  {
   "cell_type": "markdown",
   "metadata": {},
   "source": [
    "This is usually the go to for most people but what people don't tell you is that there's a *good* way to actually search for solutions on the internet. Below we find out what this way is!"
   ]
  },
  {
   "cell_type": "markdown",
   "metadata": {},
   "source": [
    "#### Search Engines\n",
    "\n",
    "When using a search engine, you have to be **very specific** about what you put into the search bar to get a good answer. Let's look at good and bad searches:\n",
    "\n",
    "**Bad Search**\n",
    "<br>\n",
    "<img align=\"left\" src = \"sql_error_bad_search.png\" width=\"400\" height=\"60\">\n",
    "<br><br>\n"
   ]
  },
  {
   "cell_type": "markdown",
   "metadata": {},
   "source": [
    "**Good Search**\n",
    "<br>\n",
    "<img align=\"left\" src = \"sql_error_good_search.png\" width=\"400\" height=\"60\">"
   ]
  },
  {
   "cell_type": "markdown",
   "metadata": {},
   "source": [
    "#### Specialised sites\n",
    "\n",
    "If all else fails when searching in a search engine then it's time to hit specialised sites:\n",
    "<br><br>\n",
    "\n",
    "- [**StackOverflow**](https://stackoverflow.com/): The site can be hard to use at first but once you get the hang of using the search bar it can be handy.\n",
    "<br><br>\n",
    "- **Github Issues**: If you're using an open-source software, then it's likely they are on github, you can simply head to their github page and go to the 'Issues' tab then try to search for your particular issue. Here's [Pandas github issues page](https://github.com/pandas-dev/pandas/issues). In the search bar, make sure only *is:issue* is present then search your error!\n",
    "<br><br>\n",
    "- **Project online community/forum**: Check if the project has an online community or forum page where people come to ask questions. Here's an example of [Power BI's forum](https://community.powerbi.com/)\n",
    "<br><br>\n",
    "- **Online developer communities**: Reddit, Quora, Twitter, dev.to are places where you can also search for answers!\n"
   ]
  },
  {
   "cell_type": "markdown",
   "metadata": {},
   "source": [
    "### Ask for help\n",
    "\n",
    "**How to ask for help**\n",
    "\n",
    "Okay okay, so you’ve really tried everything and it seems like nothing is working. Now you feel like you really need to ask someone else for help.\n",
    "\n",
    "Before asking though, it’s important that you make sure you have all of the following components of an excellent question:\n",
    "\n",
    "- Explain what you’re trying to do\n",
    "- Show the code that’s giving the error\n",
    "- Show the entire stack trace including the error message\n",
    "- Explain 2-3 things that you’ve tried already and why they didn’t work\n",
    "\n",
    "Sometimes, in the simple process of going through these items in your mind and writing them down, a new solution becomes obvious.\n",
    "\n",
    "I've found that simply writing each of these 4 things down makes it suddenly obvious what the problem is, or something new that I can try.\n",
    "\n",
    "It may work for you as well!\n",
    "\n",
    "Those who do have access to in-person help should absolutely use it. If they are in a teaching position the worst thing they can say is no, or point you in a vague direction to help you get to your next step.\n",
    "\n",
    "It's easy to work your way into exhaustion. Take the steps necessary to increase your productivity and ask for help when you've run out of options."
   ]
  },
  {
   "cell_type": "markdown",
   "metadata": {},
   "source": [
    "## Exercise\n",
    "\n",
    "Debug the following code!"
   ]
  },
  {
   "cell_type": "code",
   "execution_count": 45,
   "metadata": {},
   "outputs": [
    {
     "ename": "SyntaxError",
     "evalue": "invalid syntax (<ipython-input-45-92507c6fdd84>, line 6)",
     "output_type": "error",
     "traceback": [
      "\u001b[0;36m  File \u001b[0;32m\"<ipython-input-45-92507c6fdd84>\"\u001b[0;36m, line \u001b[0;32m6\u001b[0m\n\u001b[0;31m    data_input = {\"Analysts\": [1,2,3 'Five'],\u001b[0m\n\u001b[0m                                          ^\u001b[0m\n\u001b[0;31mSyntaxError\u001b[0m\u001b[0;31m:\u001b[0m invalid syntax\n"
     ]
    }
   ],
   "source": [
    "import pandas as pd\n",
    "import numpy as np\n",
    "import sqlite3\n",
    "import sqlalchemy\n",
    "\n",
    "data_input = {\"Analysts\": [1,2,3 'Five'],\n",
    "              \"Scientists\": [6, 7, 8, 9]}\n",
    "df = pd.DataFrame(data_input)\n",
    "df"
   ]
  },
  {
   "cell_type": "code",
   "execution_count": 49,
   "metadata": {},
   "outputs": [
    {
     "ename": "IntegrityError",
     "evalue": "CHECK constraint failed: prices",
     "output_type": "error",
     "traceback": [
      "\u001b[0;31m---------------------------------------------------------------------------\u001b[0m",
      "\u001b[0;31mIntegrityError\u001b[0m                            Traceback (most recent call last)",
      "\u001b[0;32m<ipython-input-49-0b03b89c50e0>\u001b[0m in \u001b[0;36m<module>\u001b[0;34m\u001b[0m\n\u001b[1;32m     35\u001b[0m                 \u001b[0;34m(\u001b[0m\u001b[0;36m4\u001b[0m\u001b[0;34m,\u001b[0m\u001b[0;36m450\u001b[0m\u001b[0;34m)\u001b[0m\u001b[0;34m,\u001b[0m\u001b[0;34m\u001b[0m\u001b[0;34m\u001b[0m\u001b[0m\n\u001b[1;32m     36\u001b[0m                 \u001b[0;34m(\u001b[0m\u001b[0;36m5\u001b[0m\u001b[0;34m,\u001b[0m\u001b[0;36m150\u001b[0m\u001b[0;34m)\u001b[0m\u001b[0;34m\u001b[0m\u001b[0;34m\u001b[0m\u001b[0m\n\u001b[0;32m---> 37\u001b[0;31m           ''')\n\u001b[0m\u001b[1;32m     38\u001b[0m \u001b[0;34m\u001b[0m\u001b[0m\n\u001b[1;32m     39\u001b[0m \u001b[0;34m\u001b[0m\u001b[0m\n",
      "\u001b[0;31mIntegrityError\u001b[0m: CHECK constraint failed: prices"
     ]
    }
   ],
   "source": [
    "conn = sqlite3.connect('test_database') \n",
    "c = conn.cursor()\n",
    "\n",
    "c.execute('''\n",
    "          CREATE TABLE products\n",
    "          ([product_id] INTEGER PRIMARY KEY, [product_name] INTEGER)\n",
    "          ''')\n",
    "          \n",
    "\n",
    "\n",
    "c.execute('''\n",
    "          INSERT INTO products (product_id, product_name)\n",
    "\n",
    "                VALUES\n",
    "                (1,'Computer'),\n",
    "                (2,'Printer'),\n",
    "                (3,'Tablet'),\n",
    "                (4,'Desk'),\n",
    "                (5,'Chair')\n",
    "          ''')\n",
    "\n",
    "\n",
    "c.execute('''\n",
    "          CREATE TABLE prices\n",
    "          ([product_id] INTEGER PRIMARY KEY, [price] INTEGER CHECK (typeof(price) = 'integer'))\n",
    "          ''')\n",
    "\n",
    "c.execute('''\n",
    "          INSERT INTO prices (product_id, price)\n",
    "\n",
    "                VALUES\n",
    "                (1,'800'),\n",
    "                (2,'2OO'),\n",
    "                (3,300),\n",
    "                (4,450),\n",
    "                (5,150)\n",
    "          ''')\n",
    "                     \n",
    "\n",
    "\n",
    "c.execute('''\n",
    "          SELECT\n",
    "          a.product_name,\n",
    "          b.price\n",
    "          FROM products a\n",
    "          LEFT JOIN prices b ON a.product_id = b.product_id\n",
    "          ''')\n",
    "conn.commit()\n",
    "\n",
    "df = pd.DataFrame(c.fetchall(), columns=['product_name','price'])\n",
    "df"
   ]
  },
  {
   "cell_type": "code",
   "execution_count": null,
   "metadata": {},
   "outputs": [],
   "source": []
  },
  {
   "cell_type": "code",
   "execution_count": null,
   "metadata": {},
   "outputs": [],
   "source": []
  }
 ],
 "metadata": {
  "kernelspec": {
   "display_name": "Python [conda env:root] *",
   "language": "python",
   "name": "conda-root-py"
  },
  "language_info": {
   "codemirror_mode": {
    "name": "ipython",
    "version": 3
   },
   "file_extension": ".py",
   "mimetype": "text/x-python",
   "name": "python",
   "nbconvert_exporter": "python",
   "pygments_lexer": "ipython3",
   "version": "3.7.6"
  },
  "toc": {
   "base_numbering": 1,
   "nav_menu": {},
   "number_sections": true,
   "sideBar": true,
   "skip_h1_title": true,
   "title_cell": "Table of Contents",
   "title_sidebar": "Contents",
   "toc_cell": false,
   "toc_position": {
    "height": "calc(100% - 180px)",
    "left": "10px",
    "top": "150px",
    "width": "331px"
   },
   "toc_section_display": true,
   "toc_window_display": true
  }
 },
 "nbformat": 4,
 "nbformat_minor": 4
}
